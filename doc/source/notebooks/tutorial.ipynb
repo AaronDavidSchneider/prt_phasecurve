{
 "cells": [
  {
   "cell_type": "markdown",
   "id": "b76efa38",
   "metadata": {},
   "source": [
    "# Tutorial"
   ]
  },
  {
   "cell_type": "markdown",
   "id": "2ecc3801",
   "metadata": {},
   "source": [
    "## Loading the GCM data"
   ]
  },
  {
   "cell_type": "markdown",
   "id": "b6a93622",
   "metadata": {},
   "source": [
    "This first step will be an example for MITgcm output"
   ]
  },
  {
   "cell_type": "markdown",
   "id": "797d485a",
   "metadata": {},
   "source": [
    "## Creating the spectra"
   ]
  },
  {
   "cell_type": "code",
   "execution_count": null,
   "id": "bc928102",
   "metadata": {},
   "outputs": [],
   "source": []
  }
 ],
 "metadata": {
  "kernelspec": {
   "display_name": "Python 3",
   "language": "python",
   "name": "python3"
  },
  "language_info": {
   "codemirror_mode": {
    "name": "ipython",
    "version": 3
   },
   "file_extension": ".py",
   "mimetype": "text/x-python",
   "name": "python",
   "nbconvert_exporter": "python",
   "pygments_lexer": "ipython3",
   "version": "3.8.5"
  }
 },
 "nbformat": 4,
 "nbformat_minor": 5
}
